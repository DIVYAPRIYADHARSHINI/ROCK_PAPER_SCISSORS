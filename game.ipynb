{
  "nbformat": 4,
  "nbformat_minor": 0,
  "metadata": {
    "colab": {
      "provenance": []
    },
    "kernelspec": {
      "name": "python3",
      "display_name": "Python 3"
    },
    "language_info": {
      "name": "python"
    }
  },
  "cells": [
    {
      "cell_type": "code",
      "execution_count": null,
      "metadata": {
        "colab": {
          "base_uri": "https://localhost:8080/"
        },
        "id": "F994JNFNhMiv",
        "outputId": "a5fe6e88-7201-4c43-faed-447002088c70"
      },
      "outputs": [
        {
          "output_type": "stream",
          "name": "stdout",
          "text": [
            "Computer picked rock.\n",
            "draw match!\n",
            "Computer picked rock.\n",
            "You won!\n",
            "Type Rock/Paper/Scissors or Q to quit: Paper\n",
            "Computer picked scissors.\n",
            "You lost!\n"
          ]
        }
      ],
      "source": [
        "from multiprocessing import parent_process\n",
        "import random\n",
        "\n",
        "user_wins = 0\n",
        "computer_wins = 0\n",
        "draw_match = 0\n",
        "\n",
        "options = [\"rock\", \"paper\", \"scissors\"]\n",
        "\n",
        "while True:\n",
        "    user_input = input(\"Type Rock/Paper/Scissors or Q to quit: \").lower()\n",
        "    if user_input == \"q\":\n",
        "        break\n",
        "\n",
        "    if user_input not in options:\n",
        "        continue\n",
        "\n",
        "    random_number = random.randint(0, 2)\n",
        "    # rock: 0, paper: 1, scissors: 2\n",
        "    computer_pick = options[random_number]\n",
        "    print(\"Computer picked\", computer_pick + \".\")\n",
        "\n",
        "    if user_input == \"rock\" and computer_pick == \"scissors\":\n",
        "        print(\"You won!\")\n",
        "        user_wins += 1\n",
        "\n",
        "    elif user_input == \"paper\" and computer_pick == \"rock\":\n",
        "        print(\"You won!\")\n",
        "        user_wins += 1\n",
        "\n",
        "    elif user_input == \"scissors\" and computer_pick == \"paper\":\n",
        "        print(\"You won!\")\n",
        "        user_wins += 1\n",
        "\n",
        "    elif user_input == \"rock\" and computer_pick == \"rock\":\n",
        "        print(\"draw match!\")\n",
        "        draw_match += 1\n",
        "\n",
        "    elif user_input == \"paper\" and computer_pick == \"paper\":\n",
        "        print(\"draw match!\")\n",
        "        draw_match += 1\n",
        "\n",
        "    elif user_input == \"scissors\" and computer_pick == \"scissors\":\n",
        "        print(\"draw match!\")\n",
        "        draw_match += 1\n",
        "\n",
        "    else:\n",
        "        print(\"You lost!\")\n",
        "        computer_wins += 1\n",
        "\n",
        "print(\"You won\", user_wins, \"times.\")\n",
        "print(\"The computer won\", computer_wins, \"times.\")\n",
        "print(\"Draw Matches\",draw_match,\"times.\" )\n",
        "print(\"Goodbye!\")\n"
      ]
    }
  ]
}